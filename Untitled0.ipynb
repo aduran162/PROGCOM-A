{
  "nbformat": 4,
  "nbformat_minor": 0,
  "metadata": {
    "colab": {
      "provenance": [],
      "authorship_tag": "ABX9TyMwhV0vRDLhrUg14FvIGmGW",
      "include_colab_link": true
    },
    "kernelspec": {
      "name": "python3",
      "display_name": "Python 3"
    },
    "language_info": {
      "name": "python"
    }
  },
  "cells": [
    {
      "cell_type": "markdown",
      "metadata": {
        "id": "view-in-github",
        "colab_type": "text"
      },
      "source": [
        "<a href=\"https://colab.research.google.com/github/aduran162/PROGCOM-A/blob/main/Untitled0.ipynb\" target=\"_parent\"><img src=\"https://colab.research.google.com/assets/colab-badge.svg\" alt=\"Open In Colab\"/></a>"
      ]
    },
    {
      "cell_type": "markdown",
      "source": [
        " Ejercicio 1\n",
        "\n",
        "\n",
        "```\n",
        "Algoritmo NumeroPositivo\n",
        "\tEscribir \"Ingrese un número:\"\n",
        "\tLeer num\n",
        "\tSi num > 0 Entonces\n",
        "\t\tEscribir \"El número es positivo\"\n",
        "\tSiNo\n",
        "\t\tEscribir \"El número no es positivo\"\n",
        "\tFinSi\n",
        "FinAlgoritmo\n",
        "```\n",
        "\n"
      ],
      "metadata": {
        "id": "6c5GKPm1Xe54"
      }
    },
    {
      "cell_type": "markdown",
      "source": [
        "Ejercicioo 2\n",
        "\n",
        "\n",
        "```\n",
        "Algoritmo MayorDeEdad\n",
        "\tEscribir \"Ingrese su edad:\"\n",
        "\tLeer edad\n",
        "\tSi edad >= 18 Entonces\n",
        "\t\tEscribir \"Es mayor de edad\"\n",
        "\tSiNo\n",
        "\t\tEscribir \"Es menor de edad\"\n",
        "\tFinSi\n",
        "FinAlgoritmo\n",
        "```\n",
        "\n",
        "\n"
      ],
      "metadata": {
        "id": "sADVOwQEY9J2"
      }
    },
    {
      "cell_type": "markdown",
      "source": [
        "Ejercicio 3\n",
        "\n",
        "\n",
        "```\n",
        "Algoritmo MayorDeDos\n",
        "\tEscribir \"Ingrese el primer número:\"\n",
        "\tLeer num1\n",
        "\tEscribir \"Ingrese el segundo número:\"\n",
        "\tLeer num2\n",
        "\tSi num1 > num2 Entonces\n",
        "\t\tEscribir num1, \" es el mayor\"\n",
        "\tSiNo\n",
        "\t\tEscribir num2, \" es el mayor\"\n",
        "\tFinSi\n",
        "FinAlgoritmo\n",
        "\n",
        "```\n",
        "\n",
        "\n"
      ],
      "metadata": {
        "id": "Ao15DB0wZu0F"
      }
    },
    {
      "cell_type": "markdown",
      "source": [
        "Ejercicio 4\n",
        "\n",
        "\n",
        "```\n",
        "Algoritmo Calificacion\n",
        "\tEscribir \"Ingrese su calificación:\"\n",
        "\tLeer nota\n",
        "\tSi nota >= 60 Entonces\n",
        "\t\tEscribir \"Aprobado\"\n",
        "\tSiNo\n",
        "\t\tEscribir \"Reprobado\"\n",
        "\tFinSi\n",
        "FinAlgoritmo\n",
        "```\n",
        "\n"
      ],
      "metadata": {
        "id": "cv5Z3ZKwagP1"
      }
    },
    {
      "cell_type": "markdown",
      "source": [
        "Ejercicio 5\n",
        "\n",
        "\n",
        "```\n",
        "Algoritmo ParOImpar\n",
        "\tEscribir \"Ingrese un número:\"\n",
        "\tLeer num\n",
        "\tSi num MOD 2 = 0 Entonces\n",
        "\t\tEscribir \"El número es par\"\n",
        "\tSiNo\n",
        "\t\tEscribir \"El número es impar\"\n",
        "\tFinSi\n",
        "FinAlgoritmo\n",
        "```\n",
        "\n"
      ],
      "metadata": {
        "id": "hkx5BqVRbwYU"
      }
    },
    {
      "cell_type": "markdown",
      "source": [
        "Ejercicio 6\n",
        "\n",
        "\n",
        "```\n",
        "Algoritmo MayorDeTres\n",
        "\tEscribir \"Ingrese el primer número:\"\n",
        "\tLeer num1\n",
        "\tEscribir \"Ingrese el segundo número:\"\n",
        "\tLeer num2\n",
        "\tEscribir \"Ingrese el tercer número:\"\n",
        "\tLeer num3\n",
        "\tSi num1 >= num2 Y num1 >= num3 Entonces\n",
        "\t\tEscribir num1, \" es el mayor\"\n",
        "\tSiNo\n",
        "\t\tSi num2 >= num1 Y num2 >= num3 Entonces\n",
        "\t\t\tEscribir num2, \" es el mayor\"\n",
        "\t\tSiNo\n",
        "\t\t\tEscribir num3, \" es el mayor\"\n",
        "\t\tFinSi\n",
        "\tFinSi\n",
        "FinAlgoritmo\n",
        "```\n",
        "\n"
      ],
      "metadata": {
        "id": "UWoFLm1lcNur"
      }
    },
    {
      "cell_type": "code",
      "execution_count": null,
      "metadata": {
        "id": "SDPaBrGjPzLu"
      },
      "outputs": [],
      "source": []
    }
  ]
}