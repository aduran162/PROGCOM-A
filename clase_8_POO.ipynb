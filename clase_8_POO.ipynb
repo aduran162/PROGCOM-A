{
  "nbformat": 4,
  "nbformat_minor": 0,
  "metadata": {
    "colab": {
      "provenance": [],
      "authorship_tag": "ABX9TyMIf0uuosN4Ne1Z9aCZ3j+p",
      "include_colab_link": true
    },
    "kernelspec": {
      "name": "python3",
      "display_name": "Python 3"
    },
    "language_info": {
      "name": "python"
    }
  },
  "cells": [
    {
      "cell_type": "markdown",
      "metadata": {
        "id": "view-in-github",
        "colab_type": "text"
      },
      "source": [
        "<a href=\"https://colab.research.google.com/github/aduran162/PROGCOM-A/blob/main/clase_8_POO.ipynb\" target=\"_parent\"><img src=\"https://colab.research.google.com/assets/colab-badge.svg\" alt=\"Open In Colab\"/></a>"
      ]
    },
    {
      "cell_type": "code",
      "execution_count": 2,
      "metadata": {
        "colab": {
          "base_uri": "https://localhost:8080/"
        },
        "id": "HZb22QEkLhpv",
        "outputId": "0def0bd8-827a-4be1-dbd6-7bebd6c9c1e0"
      },
      "outputs": [
        {
          "output_type": "execute_result",
          "data": {
            "text/plain": [
              "['geranio', 'lirio', 'dahlia']"
            ]
          },
          "metadata": {},
          "execution_count": 2
        }
      ],
      "source": [
        "C"
      ]
    },
    {
      "cell_type": "code",
      "source": [
        "def inventario():\n",
        " flores = [\"tulipan\",\"lirio\",\"rosa\",\"dahlia\",\"margarita\",\"girasol\",\"clavel\",\"geranio\"]\n",
        " selección=random.sample(flores,3)\n",
        "\n",
        " inventario={\n",
        "  flor:{\n",
        "      \"precio\":random.randint(2000,6000),\n",
        "      \"cantidad\":random.randint(10,50),\n",
        "      \"vendidas\":0\n",
        "  } for flor in selección\n",
        " }\n",
        " return inventario"
      ],
      "metadata": {
        "id": "RfAUjI3RPDNR"
      },
      "execution_count": 5,
      "outputs": []
    },
    {
      "cell_type": "code",
      "source": [
        "inventario()"
      ],
      "metadata": {
        "colab": {
          "base_uri": "https://localhost:8080/"
        },
        "id": "YNejgS8iQvXJ",
        "outputId": "62324728-0eb1-4d13-fc64-2f698c570312"
      },
      "execution_count": 8,
      "outputs": [
        {
          "output_type": "execute_result",
          "data": {
            "text/plain": [
              "{'lirio': {'precio': 2832, 'cantidad': 39, 'vendidas': 0},\n",
              " 'clavel': {'precio': 4198, 'cantidad': 35, 'vendidas': 0},\n",
              " 'dahlia': {'precio': 3194, 'cantidad': 12, 'vendidas': 0}}"
            ]
          },
          "metadata": {},
          "execution_count": 8
        }
      ]
    },
    {
      "cell_type": "code",
      "source": [
        "flor=inventario()\n",
        "flor.items()"
      ],
      "metadata": {
        "colab": {
          "base_uri": "https://localhost:8080/"
        },
        "id": "pCohp50WSfp_",
        "outputId": "673c682f-91e2-4cf4-c701-fb2c62ca8ecc"
      },
      "execution_count": 9,
      "outputs": [
        {
          "output_type": "execute_result",
          "data": {
            "text/plain": [
              "dict_items([('lirio', {'precio': 2813, 'cantidad': 30, 'vendidas': 0}), ('dahlia', {'precio': 3963, 'cantidad': 38, 'vendidas': 0}), ('tulipan', {'precio': 3142, 'cantidad': 18, 'vendidas': 0})])"
            ]
          },
          "metadata": {},
          "execution_count": 9
        }
      ]
    },
    {
      "cell_type": "code",
      "source": [
        "def menu(inventario):\n",
        "  print(\"\\n---Menu de flores disponibles floristeria carlitos---\")\n",
        "  for flor,datos in inventario.items():\n",
        "    print(f\"{flor}: ${datos['precio']} cant: {datos['cantidad']}disponibles\")\n",
        "  print(\"-----------------------------------\")"
      ],
      "metadata": {
        "id": "Yahiy-pYRebx"
      },
      "execution_count": 15,
      "outputs": []
    },
    {
      "cell_type": "code",
      "source": [
        "menu(inventario())"
      ],
      "metadata": {
        "colab": {
          "base_uri": "https://localhost:8080/"
        },
        "id": "0FByJBpQTsOd",
        "outputId": "957dc334-dc48-442e-a337-729eb774bb90"
      },
      "execution_count": 16,
      "outputs": [
        {
          "output_type": "stream",
          "name": "stdout",
          "text": [
            "\n",
            "---Menu de flores disponibles floristeria carlitos---\n",
            "dahlia: $3970 cant: 21disponibles\n",
            "geranio: $3248 cant: 44disponibles\n",
            "rosa: $5387 cant: 39disponibles\n",
            "-----------------------------------\n"
          ]
        }
      ]
    },
    {
      "cell_type": "code",
      "source": [
        "def ventas(inventario, flor, cantidad, total_ganado):\n",
        "  if flor not in inventario:\n",
        "    print(f\"{flor} no se encuentra a la venta😂\")\n",
        "    return total_ganado\n",
        "\n",
        "  datos = inventario[flor]\n",
        "  if cantidad > datos[\"cantidad\"]:\n",
        "    print(f\"Lo siento, no tenemos la cantidad requerida de {flor}. Disponibles: {datos['cantidad']}\")\n",
        "    return total_ganado\n",
        "\n",
        "  # Realizando la venta\n",
        "  datos[\"cantidad\"] -= cantidad\n",
        "  datos[\"vendidas\"] += cantidad\n",
        "  venta = datos[\"precio\"] * cantidad\n",
        "  total_ganado += venta\n",
        "  print(f\"Vendidas: {cantidad} de {flor} por un total de ${venta}\")\n",
        "\n",
        "  # si se acaba, eliminamos la flor\n",
        "  if datos[\"cantidad\"] == 0:\n",
        "    print(f\"{flor} ha sido eliminada del inventario\")\n",
        "    del inventario[flor]\n",
        "\n",
        "  return total_ganado"
      ],
      "metadata": {
        "id": "gwXygErKVHOE"
      },
      "execution_count": 22,
      "outputs": []
    },
    {
      "cell_type": "code",
      "source": [
        "def cerrar_tienda(inventario_inicial,inventario_final,total_ganado):\n",
        "  print(\"\\n---tienda cerrada---\")\n",
        "  #combinar el inventario inicial con el final para saber cuantas se venideron\n",
        "  flores_vendidas={}\n",
        "  for flor,datos in inventario_inicial.items():\n",
        "    cantidad_final=inventario_final.get(flor,{\"cantidad\":0})[\"cantidad\"]\n",
        "    vendidas=datos[\"cantidad\"]-cantidad_final\n",
        "    flores_vendidas[flor]=vendidas\n",
        "\n",
        "    #determinar cuales fueron las mas vendiad\n",
        "  mas_vendidas=max(flores_vendidas,key=flores_vendidas.get)\n",
        "  menos_vendidas=min(flores_vendidas, key=flores_vendidas.get)\n",
        "\n",
        "  print(f\"la flor mas vendida fue {mas_vendidas}:{flores_vendidas[mas_vendidas]}unidades\")\n",
        "  print(f\"la flor menos vendida fue {menos_vendidas}:{flores_vendidas[menos_vendidas]}unidades\")"
      ],
      "metadata": {
        "id": "fX8NorbhZ690"
      },
      "execution_count": 18,
      "outputs": []
    },
    {
      "cell_type": "code",
      "source": [
        "flor"
      ],
      "metadata": {
        "colab": {
          "base_uri": "https://localhost:8080/"
        },
        "id": "BTMQxR0LeKhI",
        "outputId": "fb208c39-328c-4856-d05e-d8fd3afe64a7"
      },
      "execution_count": 23,
      "outputs": [
        {
          "output_type": "execute_result",
          "data": {
            "text/plain": [
              "{'lirio': {'precio': 2813, 'cantidad': 30, 'vendidas': 0},\n",
              " 'dahlia': {'precio': 3963, 'cantidad': 38, 'vendidas': 0},\n",
              " 'tulipan': {'precio': 3142, 'cantidad': 18, 'vendidas': 0}}"
            ]
          },
          "metadata": {},
          "execution_count": 23
        }
      ]
    },
    {
      "cell_type": "code",
      "source": [
        "total_ganado=0\n",
        "total_ganado=ventas(flor,\"rosa\",10,total_ganado)\n",
        "total_ganado=ventas(flor,\"clavel\",18,total_ganado)\n",
        "total_ganado=ventas(flor,\"margarita\",80,total_ganado)"
      ],
      "metadata": {
        "colab": {
          "base_uri": "https://localhost:8080/"
        },
        "id": "Yr7nDqTDdazW",
        "outputId": "f7f2d1d4-d33b-43a4-fd07-8ee550bb2741"
      },
      "execution_count": 24,
      "outputs": [
        {
          "output_type": "stream",
          "name": "stdout",
          "text": [
            "rosa no se encuentra a la venta😂\n",
            "clavel no se encuentra a la venta😂\n",
            "margarita no se encuentra a la venta😂\n"
          ]
        }
      ]
    },
    {
      "cell_type": "code",
      "source": [
        "menu(flor)"
      ],
      "metadata": {
        "colab": {
          "base_uri": "https://localhost:8080/"
        },
        "id": "BvJAagH6elaQ",
        "outputId": "5a2fcfeb-f5d0-47f0-b005-0f15933f619d"
      },
      "execution_count": 25,
      "outputs": [
        {
          "output_type": "stream",
          "name": "stdout",
          "text": [
            "\n",
            "---Menu de flores disponibles floristeria carlitos---\n",
            "lirio: $2813 cant: 30disponibles\n",
            "dahlia: $3963 cant: 38disponibles\n",
            "tulipan: $3142 cant: 18disponibles\n",
            "-----------------------------------\n"
          ]
        }
      ]
    }
  ]
}