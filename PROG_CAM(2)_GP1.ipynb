{
  "nbformat": 4,
  "nbformat_minor": 0,
  "metadata": {
    "colab": {
      "provenance": [],
      "authorship_tag": "ABX9TyOes37/MMwpW71NNbKWSQtk",
      "include_colab_link": true
    },
    "kernelspec": {
      "name": "python3",
      "display_name": "Python 3"
    },
    "language_info": {
      "name": "python"
    }
  },
  "cells": [
    {
      "cell_type": "markdown",
      "metadata": {
        "id": "view-in-github",
        "colab_type": "text"
      },
      "source": [
        "<a href=\"https://colab.research.google.com/github/aduran162/PROGCOM-A/blob/main/PROG_CAM(2)_GP1.ipynb\" target=\"_parent\"><img src=\"https://colab.research.google.com/assets/colab-badge.svg\" alt=\"Open In Colab\"/></a>"
      ]
    },
    {
      "cell_type": "code",
      "execution_count": null,
      "metadata": {
        "colab": {
          "base_uri": "https://localhost:8080/"
        },
        "id": "Un_RR6l3ArCi",
        "outputId": "cc30619c-5771-430b-cbc5-8693a0cb9b78"
      },
      "outputs": [
        {
          "output_type": "stream",
          "name": "stdout",
          "text": [
            "🎮 Bienvenido a Piedra, Papel, Tijera🎮\n",
            "Tienes 5 intentos. Suerte\n",
            "\n",
            "Ronda 1\n",
            "Elige una opción ['piedra', 'papel', 'tijera']: tijera\n",
            "Tú elegiste: ✌️ (tijera)\n",
            "La CPU eligió: ✌️ (tijera)\n",
            "🤝 Empate\n",
            "\n",
            "Ronda 2\n"
          ]
        }
      ],
      "source": [
        "import random\n",
        "#Opciones del juego con emojis\n",
        "opciones = {\n",
        "    \"piedra\": \"✊\",\n",
        "    \"papel\": \"✋\",\n",
        "    \"tijera\": \"✌️\",\n",
        "}\n",
        "\n",
        "#Reglas del juego\n",
        "reglas = {\n",
        "    \"tijera\": [\"papel\"],\n",
        "    \"papel\": [\"piedra\"],\n",
        "    \"piedra\": [\"tijera\"],\n",
        "}\n",
        "\n",
        "#Juego principal\n",
        "puntosjugador = 0\n",
        "puntoscpu = 0\n",
        "intentos = 5\n",
        "\n",
        "print(\"🎮 Bienvenido a Piedra, Papel, Tijera🎮\")\n",
        "print(\"Tienes 5 intentos. Suerte\\n\")\n",
        "\n",
        "for ronda in range(1, intentos + 1):\n",
        "    print(f\"Ronda {ronda}\")\n",
        "    eleccion = input(f\"Elige una opción {list(opciones.keys())}: \").lower()\n",
        "\n",
        "    if eleccion not in opciones:\n",
        "        print(\"❌ Opción inválida, pierdes esta ronda.\\n\")\n",
        "        puntoscpu += 1\n",
        "        continue\n",
        "\n",
        "    cpu = random.choice(list(opciones.keys()))\n",
        "    print(f\"Tú elegiste: {opciones[eleccion]} ({eleccion})\")\n",
        "    print(f\"La CPU eligió: {opciones[cpu]} ({cpu})\")\n",
        "\n",
        "    if eleccion == cpu:\n",
        "        print(\"🤝 Empate\\n\")\n",
        "    elif cpu in reglas[eleccion]:\n",
        "        print(\"✅ Ganaste esta ronda\\n\")\n",
        "        puntosjugador += 1\n",
        "    else:\n",
        "        print(\"💀 Perdiste esta ronda.\\n\")\n",
        "        puntoscpu += 1\n",
        "\n",
        "print(\"🎯 RESULTADOS FINALES 🎯\")\n",
        "print(f\"Tus puntos: {puntosjugador}\")\n",
        "print(f\"Puntos CPU: {puntoscpu}\")\n",
        "\n",
        "if puntosjugador > puntoscpu:\n",
        "    print(\"🏆 GANASTE EL JUEGO 🏆\")\n",
        "elif puntosjugador < puntoscpu:\n",
        "    print(\"😢 Perdiste el juego\")\n",
        "else:\n",
        "    print(\"🤝 El juego terminó en EMPATE\")"
      ]
    }
  ]
}