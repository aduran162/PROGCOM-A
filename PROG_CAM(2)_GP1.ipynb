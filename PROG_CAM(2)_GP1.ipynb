{
  "nbformat": 4,
  "nbformat_minor": 0,
  "metadata": {
    "colab": {
      "provenance": [],
      "authorship_tag": "ABX9TyPV0i6592UTCtqtTtNRUqdG",
      "include_colab_link": true
    },
    "kernelspec": {
      "name": "python3",
      "display_name": "Python 3"
    },
    "language_info": {
      "name": "python"
    },
    "widgets": {
      "application/vnd.jupyter.widget-state+json": {
        "178c25cc5105433eb2c0ae65f08f4d30": {
          "model_module": "@jupyter-widgets/controls",
          "model_name": "LabelModel",
          "model_module_version": "1.5.0",
          "state": {
            "_dom_classes": [],
            "_model_module": "@jupyter-widgets/controls",
            "_model_module_version": "1.5.0",
            "_model_name": "LabelModel",
            "_view_count": null,
            "_view_module": "@jupyter-widgets/controls",
            "_view_module_version": "1.5.0",
            "_view_name": "LabelView",
            "description": "",
            "description_tooltip": null,
            "layout": "IPY_MODEL_1231267bfadb4ed8bb1af4e93e175f6f",
            "placeholder": "​",
            "style": "IPY_MODEL_fd3d55bfffb74ee79f6dadcec202351e",
            "value": "Tienes 5 intentos. Elige una opción:"
          }
        },
        "1231267bfadb4ed8bb1af4e93e175f6f": {
          "model_module": "@jupyter-widgets/base",
          "model_name": "LayoutModel",
          "model_module_version": "1.2.0",
          "state": {
            "_model_module": "@jupyter-widgets/base",
            "_model_module_version": "1.2.0",
            "_model_name": "LayoutModel",
            "_view_count": null,
            "_view_module": "@jupyter-widgets/base",
            "_view_module_version": "1.2.0",
            "_view_name": "LayoutView",
            "align_content": null,
            "align_items": null,
            "align_self": null,
            "border": null,
            "bottom": null,
            "display": null,
            "flex": null,
            "flex_flow": null,
            "grid_area": null,
            "grid_auto_columns": null,
            "grid_auto_flow": null,
            "grid_auto_rows": null,
            "grid_column": null,
            "grid_gap": null,
            "grid_row": null,
            "grid_template_areas": null,
            "grid_template_columns": null,
            "grid_template_rows": null,
            "height": null,
            "justify_content": null,
            "justify_items": null,
            "left": null,
            "margin": null,
            "max_height": null,
            "max_width": null,
            "min_height": null,
            "min_width": null,
            "object_fit": null,
            "object_position": null,
            "order": null,
            "overflow": null,
            "overflow_x": null,
            "overflow_y": null,
            "padding": null,
            "right": null,
            "top": null,
            "visibility": null,
            "width": null
          }
        },
        "fd3d55bfffb74ee79f6dadcec202351e": {
          "model_module": "@jupyter-widgets/controls",
          "model_name": "DescriptionStyleModel",
          "model_module_version": "1.5.0",
          "state": {
            "_model_module": "@jupyter-widgets/controls",
            "_model_module_version": "1.5.0",
            "_model_name": "DescriptionStyleModel",
            "_view_count": null,
            "_view_module": "@jupyter-widgets/base",
            "_view_module_version": "1.2.0",
            "_view_name": "StyleView",
            "description_width": ""
          }
        },
        "85eebd6e526b4f2ab835bcbc31f7bfa5": {
          "model_module": "@jupyter-widgets/controls",
          "model_name": "ButtonModel",
          "model_module_version": "1.5.0",
          "state": {
            "_dom_classes": [],
            "_model_module": "@jupyter-widgets/controls",
            "_model_module_version": "1.5.0",
            "_model_name": "ButtonModel",
            "_view_count": null,
            "_view_module": "@jupyter-widgets/controls",
            "_view_module_version": "1.5.0",
            "_view_name": "ButtonView",
            "button_style": "",
            "description": "Piedra",
            "disabled": false,
            "icon": "",
            "layout": "IPY_MODEL_24bf363200ef4dba9fbe046247feb525",
            "style": "IPY_MODEL_bfeadf2e75e64c1098edefcac2844cd7",
            "tooltip": ""
          }
        },
        "24bf363200ef4dba9fbe046247feb525": {
          "model_module": "@jupyter-widgets/base",
          "model_name": "LayoutModel",
          "model_module_version": "1.2.0",
          "state": {
            "_model_module": "@jupyter-widgets/base",
            "_model_module_version": "1.2.0",
            "_model_name": "LayoutModel",
            "_view_count": null,
            "_view_module": "@jupyter-widgets/base",
            "_view_module_version": "1.2.0",
            "_view_name": "LayoutView",
            "align_content": null,
            "align_items": null,
            "align_self": null,
            "border": null,
            "bottom": null,
            "display": null,
            "flex": null,
            "flex_flow": null,
            "grid_area": null,
            "grid_auto_columns": null,
            "grid_auto_flow": null,
            "grid_auto_rows": null,
            "grid_column": null,
            "grid_gap": null,
            "grid_row": null,
            "grid_template_areas": null,
            "grid_template_columns": null,
            "grid_template_rows": null,
            "height": "80px",
            "justify_content": null,
            "justify_items": null,
            "left": null,
            "margin": null,
            "max_height": null,
            "max_width": null,
            "min_height": null,
            "min_width": null,
            "object_fit": null,
            "object_position": null,
            "order": null,
            "overflow": null,
            "overflow_x": null,
            "overflow_y": null,
            "padding": null,
            "right": null,
            "top": null,
            "visibility": null,
            "width": "150px"
          }
        },
        "bfeadf2e75e64c1098edefcac2844cd7": {
          "model_module": "@jupyter-widgets/controls",
          "model_name": "ButtonStyleModel",
          "model_module_version": "1.5.0",
          "state": {
            "_model_module": "@jupyter-widgets/controls",
            "_model_module_version": "1.5.0",
            "_model_name": "ButtonStyleModel",
            "_view_count": null,
            "_view_module": "@jupyter-widgets/base",
            "_view_module_version": "1.2.0",
            "_view_name": "StyleView",
            "button_color": null,
            "font_weight": ""
          }
        },
        "bdecfe83811042198c30d059fda55ac8": {
          "model_module": "@jupyter-widgets/controls",
          "model_name": "ButtonModel",
          "model_module_version": "1.5.0",
          "state": {
            "_dom_classes": [],
            "_model_module": "@jupyter-widgets/controls",
            "_model_module_version": "1.5.0",
            "_model_name": "ButtonModel",
            "_view_count": null,
            "_view_module": "@jupyter-widgets/controls",
            "_view_module_version": "1.5.0",
            "_view_name": "ButtonView",
            "button_style": "",
            "description": "Papel",
            "disabled": false,
            "icon": "",
            "layout": "IPY_MODEL_150b64bd90524647833222173ff9e82b",
            "style": "IPY_MODEL_64976785ac5f4aacbe4bcbbac09a757b",
            "tooltip": ""
          }
        },
        "150b64bd90524647833222173ff9e82b": {
          "model_module": "@jupyter-widgets/base",
          "model_name": "LayoutModel",
          "model_module_version": "1.2.0",
          "state": {
            "_model_module": "@jupyter-widgets/base",
            "_model_module_version": "1.2.0",
            "_model_name": "LayoutModel",
            "_view_count": null,
            "_view_module": "@jupyter-widgets/base",
            "_view_module_version": "1.2.0",
            "_view_name": "LayoutView",
            "align_content": null,
            "align_items": null,
            "align_self": null,
            "border": null,
            "bottom": null,
            "display": null,
            "flex": null,
            "flex_flow": null,
            "grid_area": null,
            "grid_auto_columns": null,
            "grid_auto_flow": null,
            "grid_auto_rows": null,
            "grid_column": null,
            "grid_gap": null,
            "grid_row": null,
            "grid_template_areas": null,
            "grid_template_columns": null,
            "grid_template_rows": null,
            "height": "80px",
            "justify_content": null,
            "justify_items": null,
            "left": null,
            "margin": null,
            "max_height": null,
            "max_width": null,
            "min_height": null,
            "min_width": null,
            "object_fit": null,
            "object_position": null,
            "order": null,
            "overflow": null,
            "overflow_x": null,
            "overflow_y": null,
            "padding": null,
            "right": null,
            "top": null,
            "visibility": null,
            "width": "150px"
          }
        },
        "64976785ac5f4aacbe4bcbbac09a757b": {
          "model_module": "@jupyter-widgets/controls",
          "model_name": "ButtonStyleModel",
          "model_module_version": "1.5.0",
          "state": {
            "_model_module": "@jupyter-widgets/controls",
            "_model_module_version": "1.5.0",
            "_model_name": "ButtonStyleModel",
            "_view_count": null,
            "_view_module": "@jupyter-widgets/base",
            "_view_module_version": "1.2.0",
            "_view_name": "StyleView",
            "button_color": null,
            "font_weight": ""
          }
        },
        "e44e8c1655ff4f218565209a8d0bb96b": {
          "model_module": "@jupyter-widgets/controls",
          "model_name": "ButtonModel",
          "model_module_version": "1.5.0",
          "state": {
            "_dom_classes": [],
            "_model_module": "@jupyter-widgets/controls",
            "_model_module_version": "1.5.0",
            "_model_name": "ButtonModel",
            "_view_count": null,
            "_view_module": "@jupyter-widgets/controls",
            "_view_module_version": "1.5.0",
            "_view_name": "ButtonView",
            "button_style": "",
            "description": "Tijera",
            "disabled": false,
            "icon": "",
            "layout": "IPY_MODEL_a1f4a609ee6b4d8f8b6898743e62fe34",
            "style": "IPY_MODEL_4c2eacc6eac64703973e8fdb19b765df",
            "tooltip": ""
          }
        },
        "a1f4a609ee6b4d8f8b6898743e62fe34": {
          "model_module": "@jupyter-widgets/base",
          "model_name": "LayoutModel",
          "model_module_version": "1.2.0",
          "state": {
            "_model_module": "@jupyter-widgets/base",
            "_model_module_version": "1.2.0",
            "_model_name": "LayoutModel",
            "_view_count": null,
            "_view_module": "@jupyter-widgets/base",
            "_view_module_version": "1.2.0",
            "_view_name": "LayoutView",
            "align_content": null,
            "align_items": null,
            "align_self": null,
            "border": null,
            "bottom": null,
            "display": null,
            "flex": null,
            "flex_flow": null,
            "grid_area": null,
            "grid_auto_columns": null,
            "grid_auto_flow": null,
            "grid_auto_rows": null,
            "grid_column": null,
            "grid_gap": null,
            "grid_row": null,
            "grid_template_areas": null,
            "grid_template_columns": null,
            "grid_template_rows": null,
            "height": "80px",
            "justify_content": null,
            "justify_items": null,
            "left": null,
            "margin": null,
            "max_height": null,
            "max_width": null,
            "min_height": null,
            "min_width": null,
            "object_fit": null,
            "object_position": null,
            "order": null,
            "overflow": null,
            "overflow_x": null,
            "overflow_y": null,
            "padding": null,
            "right": null,
            "top": null,
            "visibility": null,
            "width": "150px"
          }
        },
        "4c2eacc6eac64703973e8fdb19b765df": {
          "model_module": "@jupyter-widgets/controls",
          "model_name": "ButtonStyleModel",
          "model_module_version": "1.5.0",
          "state": {
            "_model_module": "@jupyter-widgets/controls",
            "_model_module_version": "1.5.0",
            "_model_name": "ButtonStyleModel",
            "_view_count": null,
            "_view_module": "@jupyter-widgets/base",
            "_view_module_version": "1.2.0",
            "_view_name": "StyleView",
            "button_color": null,
            "font_weight": ""
          }
        },
        "862ba5de88c24cc98a266117aaef1256": {
          "model_module": "@jupyter-widgets/controls",
          "model_name": "LabelModel",
          "model_module_version": "1.5.0",
          "state": {
            "_dom_classes": [],
            "_model_module": "@jupyter-widgets/controls",
            "_model_module_version": "1.5.0",
            "_model_name": "LabelModel",
            "_view_count": null,
            "_view_module": "@jupyter-widgets/controls",
            "_view_module_version": "1.5.0",
            "_view_name": "LabelView",
            "description": "",
            "description_tooltip": null,
            "layout": "IPY_MODEL_dcd71b2743c14d1991a1c86a9fe5460f",
            "placeholder": "​",
            "style": "IPY_MODEL_799e1f94441a40799bbbc83539791531",
            "value": "Te quedan 4 intentos."
          }
        },
        "dcd71b2743c14d1991a1c86a9fe5460f": {
          "model_module": "@jupyter-widgets/base",
          "model_name": "LayoutModel",
          "model_module_version": "1.2.0",
          "state": {
            "_model_module": "@jupyter-widgets/base",
            "_model_module_version": "1.2.0",
            "_model_name": "LayoutModel",
            "_view_count": null,
            "_view_module": "@jupyter-widgets/base",
            "_view_module_version": "1.2.0",
            "_view_name": "LayoutView",
            "align_content": null,
            "align_items": null,
            "align_self": null,
            "border": null,
            "bottom": null,
            "display": null,
            "flex": null,
            "flex_flow": null,
            "grid_area": null,
            "grid_auto_columns": null,
            "grid_auto_flow": null,
            "grid_auto_rows": null,
            "grid_column": null,
            "grid_gap": null,
            "grid_row": null,
            "grid_template_areas": null,
            "grid_template_columns": null,
            "grid_template_rows": null,
            "height": null,
            "justify_content": null,
            "justify_items": null,
            "left": null,
            "margin": null,
            "max_height": null,
            "max_width": null,
            "min_height": null,
            "min_width": null,
            "object_fit": null,
            "object_position": null,
            "order": null,
            "overflow": null,
            "overflow_x": null,
            "overflow_y": null,
            "padding": null,
            "right": null,
            "top": null,
            "visibility": null,
            "width": null
          }
        },
        "799e1f94441a40799bbbc83539791531": {
          "model_module": "@jupyter-widgets/controls",
          "model_name": "DescriptionStyleModel",
          "model_module_version": "1.5.0",
          "state": {
            "_model_module": "@jupyter-widgets/controls",
            "_model_module_version": "1.5.0",
            "_model_name": "DescriptionStyleModel",
            "_view_count": null,
            "_view_module": "@jupyter-widgets/base",
            "_view_module_version": "1.2.0",
            "_view_name": "StyleView",
            "description_width": ""
          }
        }
      }
    }
  },
  "cells": [
    {
      "cell_type": "markdown",
      "metadata": {
        "id": "view-in-github",
        "colab_type": "text"
      },
      "source": [
        "<a href=\"https://colab.research.google.com/github/aduran162/PROGCOM-A/blob/main/PROG_CAM(2)_GP1.ipynb\" target=\"_parent\"><img src=\"https://colab.research.google.com/assets/colab-badge.svg\" alt=\"Open In Colab\"/></a>"
      ]
    },
    {
      "cell_type": "code",
      "execution_count": 6,
      "metadata": {
        "colab": {
          "base_uri": "https://localhost:8080/",
          "height": 552,
          "referenced_widgets": [
            "178c25cc5105433eb2c0ae65f08f4d30",
            "1231267bfadb4ed8bb1af4e93e175f6f",
            "fd3d55bfffb74ee79f6dadcec202351e",
            "85eebd6e526b4f2ab835bcbc31f7bfa5",
            "24bf363200ef4dba9fbe046247feb525",
            "bfeadf2e75e64c1098edefcac2844cd7",
            "bdecfe83811042198c30d059fda55ac8",
            "150b64bd90524647833222173ff9e82b",
            "64976785ac5f4aacbe4bcbbac09a757b",
            "e44e8c1655ff4f218565209a8d0bb96b",
            "a1f4a609ee6b4d8f8b6898743e62fe34",
            "4c2eacc6eac64703973e8fdb19b765df",
            "862ba5de88c24cc98a266117aaef1256",
            "dcd71b2743c14d1991a1c86a9fe5460f",
            "799e1f94441a40799bbbc83539791531"
          ]
        },
        "id": "TeVGvhpPg3yF",
        "outputId": "12e23a3e-52ad-4f00-bad6-614b591717bf"
      },
      "outputs": [
        {
          "output_type": "stream",
          "name": "stdout",
          "text": [
            "Tú elegiste: Piedra\n"
          ]
        },
        {
          "output_type": "display_data",
          "data": {
            "text/html": [
              "<img src=\"https://upload.wikimedia.org/wikipedia/commons/5/5f/Emoji_u270a.svg\" width=\"80\" height=\"80\"/>"
            ],
            "text/plain": [
              "<IPython.core.display.Image object>"
            ]
          },
          "metadata": {}
        },
        {
          "output_type": "stream",
          "name": "stdout",
          "text": [
            "La computadora eligió: Piedra\n"
          ]
        },
        {
          "output_type": "display_data",
          "data": {
            "text/html": [
              "<img src=\"https://upload.wikimedia.org/wikipedia/commons/5/5f/Emoji_u270a.svg\" width=\"80\" height=\"80\"/>"
            ],
            "text/plain": [
              "<IPython.core.display.Image object>"
            ]
          },
          "metadata": {}
        },
        {
          "output_type": "stream",
          "name": "stdout",
          "text": [
            "Resultado: ¡Empate! 🤝\n"
          ]
        },
        {
          "output_type": "display_data",
          "data": {
            "text/plain": [
              "Label(value='Te quedan 4 intentos.')"
            ],
            "application/vnd.jupyter.widget-view+json": {
              "version_major": 2,
              "version_minor": 0,
              "model_id": "862ba5de88c24cc98a266117aaef1256"
            }
          },
          "metadata": {}
        },
        {
          "output_type": "display_data",
          "data": {
            "text/plain": [
              "Label(value='Tienes 5 intentos. Elige una opción:')"
            ],
            "application/vnd.jupyter.widget-view+json": {
              "version_major": 2,
              "version_minor": 0,
              "model_id": "178c25cc5105433eb2c0ae65f08f4d30"
            }
          },
          "metadata": {}
        },
        {
          "output_type": "display_data",
          "data": {
            "text/plain": [
              "Button(description='Piedra', layout=Layout(height='80px', width='150px'), style=ButtonStyle())"
            ],
            "application/vnd.jupyter.widget-view+json": {
              "version_major": 2,
              "version_minor": 0,
              "model_id": "85eebd6e526b4f2ab835bcbc31f7bfa5"
            }
          },
          "metadata": {}
        },
        {
          "output_type": "display_data",
          "data": {
            "text/plain": [
              "Button(description='Papel', layout=Layout(height='80px', width='150px'), style=ButtonStyle())"
            ],
            "application/vnd.jupyter.widget-view+json": {
              "version_major": 2,
              "version_minor": 0,
              "model_id": "bdecfe83811042198c30d059fda55ac8"
            }
          },
          "metadata": {}
        },
        {
          "output_type": "display_data",
          "data": {
            "text/plain": [
              "Button(description='Tijera', layout=Layout(height='80px', width='150px'), style=ButtonStyle())"
            ],
            "application/vnd.jupyter.widget-view+json": {
              "version_major": 2,
              "version_minor": 0,
              "model_id": "e44e8c1655ff4f218565209a8d0bb96b"
            }
          },
          "metadata": {}
        }
      ],
      "source": [
        "import random\n",
        "import requests\n",
        "from IPython.display import display, clear_output, Image\n",
        "import ipywidgets as widgets\n",
        "\n",
        "# Opciones del juego con imágenes online\n",
        "opciones = {\n",
        "    \"Piedra\": \"https://upload.wikimedia.org/wikipedia/commons/5/5f/Emoji_u270a.svg\",\n",
        "    \"Papel\": \"https://upload.wikimedia.org/wikipedia/commons/2/26/Emoji_u270b.svg\",\n",
        "    \"Tijera\": \"https://upload.wikimedia.org/wikipedia/commons/4/4f/Emoji_u270c.svg\"\n",
        "}\n",
        "\n",
        "# Variables globales\n",
        "intentosMaximos = 5\n",
        "intentosRestantes = intentosMaximos\n",
        "\n",
        "# Etiqueta para resultados\n",
        "resultadoLabel = widgets.Label(value=f\"Tienes {intentosRestantes} intentos. Elige una opción:\")\n",
        "\n",
        "# Función principal del juego\n",
        "def jugar(eleccionUsuario):\n",
        "    global intentosRestantes\n",
        "    clear_output(wait=True)\n",
        "\n",
        "    if intentosRestantes <= 0:\n",
        "        print(\"Juego terminado. Ya no tienes más intentos.\")\n",
        "        return\n",
        "\n",
        "    eleccionComputadora = random.choice(list(opciones.keys()))\n",
        "\n",
        "    # Mostrar jugadas con imágenes\n",
        "    print(f\"Tú elegiste: {eleccionUsuario}\")\n",
        "    display(Image(url=opciones[eleccionUsuario], width=80, height=80))\n",
        "\n",
        "    print(f\"La computadora eligió: {eleccionComputadora}\")\n",
        "    display(Image(url=opciones[eleccionComputadora], width=80, height=80))\n",
        "\n",
        "    # Determinar resultado\n",
        "    if eleccionUsuario == eleccionComputadora:\n",
        "        print(\"Resultado: ¡Empate! 🤝\")\n",
        "    elif (eleccionUsuario == \"Piedra\" and eleccionComputadora == \"Tijera\") or \\\n",
        "         (eleccionUsuario == \"Papel\" and eleccionComputadora == \"Piedra\") or \\\n",
        "         (eleccionUsuario == \"Tijera\" and eleccionComputadora == \"Papel\"):\n",
        "        print(\"Resultado: ¡Ganaste! 🎉\")\n",
        "    else:\n",
        "        print(\"Resultado: Perdiste 😢\")\n",
        "\n",
        "    # Reducir intentos\n",
        "    intentosRestantes -= 1\n",
        "    if intentosRestantes > 0:\n",
        "        display(widgets.Label(value=f\"Te quedan {intentosRestantes} intentos.\"))\n",
        "        display(resultadoLabel, botonPiedra, botonPapel, botonTijera)\n",
        "    else:\n",
        "        print(\"Se acabaron tus intentos. Gracias por jugar.\")\n",
        "\n",
        "# Crear botones\n",
        "botonPiedra = widgets.Button(description=\"Piedra\", layout=widgets.Layout(width=\"150px\", height=\"80px\"))\n",
        "botonPapel = widgets.Button(description=\"Papel\", layout=widgets.Layout(width=\"150px\", height=\"80px\"))\n",
        "botonTijera = widgets.Button(description=\"Tijera\", layout=widgets.Layout(width=\"150px\", height=\"80px\"))\n",
        "\n",
        "# Conectar botones con la función\n",
        "botonPiedra.on_click(lambda x: jugar(\"Piedra\"))\n",
        "botonPapel.on_click(lambda x: jugar(\"Papel\"))\n",
        "botonTijera.on_click(lambda x: jugar(\"Tijera\"))\n",
        "\n",
        "# Mostrar la interfaz inicial\n",
        "display(resultadoLabel, botonPiedra, botonPapel, botonTijera)\n"
      ]
    }
  ]
}