{
  "nbformat": 4,
  "nbformat_minor": 0,
  "metadata": {
    "colab": {
      "provenance": [],
      "authorship_tag": "ABX9TyOhfuu/KhnhlaM2XPhlXbnR",
      "include_colab_link": true
    },
    "kernelspec": {
      "name": "python3",
      "display_name": "Python 3"
    },
    "language_info": {
      "name": "python"
    }
  },
  "cells": [
    {
      "cell_type": "markdown",
      "metadata": {
        "id": "view-in-github",
        "colab_type": "text"
      },
      "source": [
        "<a href=\"https://colab.research.google.com/github/aduran162/PROGCOM-A/blob/main/PROG_CAM(2)_GP3.ipynb\" target=\"_parent\"><img src=\"https://colab.research.google.com/assets/colab-badge.svg\" alt=\"Open In Colab\"/></a>"
      ]
    },
    {
      "cell_type": "code",
      "execution_count": null,
      "metadata": {
        "id": "sTtvb5i2q8xd"
      },
      "outputs": [],
      "source": [
        "\n",
        "# Cajero automático de supermercado\n",
        "\n",
        "# Producto: tiene un nombre y un precio\n",
        "class Producto:\n",
        "    def crear(self, nombre, precio):\n",
        "        self.nombre = nombre\n",
        "        self.precio = precio\n",
        "\n",
        "\n",
        "# Factura: guarda lo que el cliente compra\n",
        "class Factura:\n",
        "    def crear(self):\n",
        "        self.listacompras = []  # aquí guardamos (producto, cantidad)\n",
        "\n",
        "    def agregar(self, producto, cantidad):\n",
        "        self.listacompras.append((producto, cantidad))\n",
        "\n",
        "    def mostrar(self):\n",
        "        print(\"\\nFACTURA\")\n",
        "        total = 0\n",
        "        for producto, cantidad in self.listacompras:\n",
        "            subtotal = producto.precio * cantidad\n",
        "            print(f\"{producto.nombre} x {cantidad} = ${subtotal:.2f}\")\n",
        "            total += subtotal\n",
        "        print(\"---------------------\")\n",
        "        print(f\"TOTAL: ${total:.2f}\")\n",
        "        print(\"---------------------\")\n",
        "\n",
        "\n",
        "# Cajero: muestra productos y permite comprar\n",
        "class Cajero:\n",
        "    def crear(self):\n",
        "        # Al menos 10 productos\n",
        "        self.productos = []\n",
        "\n",
        "        p1 = Producto(); p1.crear(\"Manzanas\", 1.5)\n",
        "        p2 = Producto(); p2.crear(\"Bananas\", 1.0)\n",
        "        p3 = Producto(); p3.crear(\"Leche\", 3.2)\n",
        "        p4 = Producto(); p4.crear(\"Pan\", 2.5)\n",
        "        p5 = Producto(); p5.crear(\"Arroz\", 4.0)\n",
        "        p6 = Producto(); p6.crear(\"Huevos\", 5.5)\n",
        "        p7 = Producto(); p7.crear(\"Queso\", 6.8)\n",
        "        p8 = Producto(); p8.crear(\"Pollo\", 8.5)\n",
        "        p9 = Producto(); p9.crear(\"Carne\", 12.0)\n",
        "        p10 = Producto(); p10.crear(\"Agua\", 1.2)\n",
        "\n",
        "        self.productos = [p1,p2,p3,p4,p5,p6,p7,p8,p9,p10]\n",
        "\n",
        "    def mostrarproductos(self):\n",
        "        print(\"PRODUCtos\")\n",
        "        for i, producto in enumerate(self.productos, start=1):\n",
        "            print(f\"{i}. {producto.nombre} - ${producto.precio:.2f}\")\n",
        "\n",
        "    def iniciar(self):\n",
        "        factura = Factura()\n",
        "        factura.crear()\n",
        "        while True:\n",
        "            self.mostrarproductos()\n",
        "            opcion = input(\"Escribe el número del producto (0 para terminar): \")\n",
        "\n",
        "            if opcion == \"0\":  # salir\n",
        "                break\n",
        "\n",
        "            if not opcion.isdigit() or int(opcion) < 1 or int(opcion) > len(self.productos):\n",
        "                print(\"Número inválido, intenta otra vez.\")\n",
        "                continue\n",
        "\n",
        "            productoelegido = self.productos[int(opcion) - 1]\n",
        "            cantidad = input(f\"¿Cuántos {productoelegido.nombre} quieres?: \")\n",
        "\n",
        "            if not cantidad.isdigit() or int(cantidad) <= 0:\n",
        "                print(\"Cantidad inválida, intenta otra vez.\")\n",
        "                continue\n",
        "\n",
        "            factura.agregar(productoelegido, int(cantidad))\n",
        "\n",
        "        factura.mostrar()\n",
        "\n",
        "\n",
        "\n",
        "# Iniciar el cajero\n",
        "\n",
        "cajero = Cajero()\n",
        "cajero.crear()\n",
        "cajero.iniciar()\n"
      ]
    }
  ]
}