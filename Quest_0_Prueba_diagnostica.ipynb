{
  "nbformat": 4,
  "nbformat_minor": 0,
  "metadata": {
    "colab": {
      "provenance": []
    },
    "kernelspec": {
      "name": "python3",
      "display_name": "Python 3"
    },
    "language_info": {
      "name": "python"
    }
  },
  "cells": [
    {
      "cell_type": "markdown",
      "source": [
        "##Prueba diagnostica\n"
      ],
      "metadata": {
        "id": "CqBFLKKDNAvI"
      }
    },
    {
      "cell_type": "markdown",
      "source": [
        "si (condición) entonces:\n",
        " pasan cosas divertidas\n",
        "si no:\n",
        " Llorelo"
      ],
      "metadata": {
        "id": "geAzqlzkNXaw"
      }
    },
    {
      "cell_type": "markdown",
      "source": [
        "##Estructuras de selección\n",
        "Aqui se desarrollara ejercisios sobre estructuras de selección\n",
        "\n",
        "\n",
        "\n",
        "```\n",
        "si (condición) entonces :\n",
        "  pasan cosas divertidas ⏰\n",
        "sino :\n",
        "  llorelo 😞\n",
        "```\n",
        "\n"
      ],
      "metadata": {
        "id": "TZgy1yj_MYwg"
      }
    }
  ]
}