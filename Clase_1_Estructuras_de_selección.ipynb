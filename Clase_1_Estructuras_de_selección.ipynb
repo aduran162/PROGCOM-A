{
  "nbformat": 4,
  "nbformat_minor": 0,
  "metadata": {
    "colab": {
      "provenance": [],
      "authorship_tag": "ABX9TyNOcOslm2fH+9W6N19dgqbj",
      "include_colab_link": true
    },
    "kernelspec": {
      "name": "python3",
      "display_name": "Python 3"
    },
    "language_info": {
      "name": "python"
    }
  },
  "cells": [
    {
      "cell_type": "markdown",
      "metadata": {
        "id": "view-in-github",
        "colab_type": "text"
      },
      "source": [
        "<a href=\"https://colab.research.google.com/github/aduran162/PROGCOM-A/blob/main/Clase_1_Estructuras_de_selecci%C3%B3n.ipynb\" target=\"_parent\"><img src=\"https://colab.research.google.com/assets/colab-badge.svg\" alt=\"Open In Colab\"/></a>"
      ]
    },
    {
      "cell_type": "markdown",
      "source": [
        "#Estructuras de selección\n",
        "Se empelan cuando se debe evaluar una condición y esta da un valor de verdad (V) o (F)."
      ],
      "metadata": {
        "id": "FLoyqLIJsn80"
      }
    },
    {
      "cell_type": "markdown",
      "source": [
        "##Estructura if-else\n",
        "\n",
        "\n",
        "```\n",
        "if (condición):\n",
        " entro aquí, si la condición es V\n",
        "else:\n",
        " entreo aquí, si la condición es F.\n",
        "```\n",
        "\n"
      ],
      "metadata": {
        "id": "xsH_oDLwtMP2"
      }
    },
    {
      "cell_type": "code",
      "execution_count": 3,
      "metadata": {
        "colab": {
          "base_uri": "https://localhost:8080/"
        },
        "id": "wSw4iRFir3rF",
        "outputId": "c3fb06c7-f15a-467d-d28e-14116fa26279"
      },
      "outputs": [
        {
          "output_type": "stream",
          "name": "stdout",
          "text": [
            "Ingrse un numero2\n",
            "2 es un número positivo\n"
          ]
        }
      ],
      "source": [
        "#Escribe un programa que reciba un numero e indique si es positivo\n",
        "n=int(input(\"Ingrse un numero\"))\n",
        "if n>=0:\n",
        " print(f\"{n} es un número positivo\")\n",
        "else:\n",
        " print(n, \" NO es un número positivo\")"
      ]
    },
    {
      "cell_type": "markdown",
      "source": [
        "##Selección múltiple if-elif-else\n",
        "\n",
        "\n",
        "```\n",
        "if (condición1):\n",
        "  si se cumple condición 1, entro\n",
        "  aquí\n",
        "elif (condición2):\n",
        "  si no se cumple condición 1,\n",
        "  pero se cumple condición 2,\n",
        "  entro aquí\n",
        "else:\n",
        "  Si no se cumple ninguna de las\n",
        "anteriores\n",
        "```\n",
        "\n"
      ],
      "metadata": {
        "id": "BpPBXiG7zpm2"
      }
    },
    {
      "cell_type": "code",
      "source": [
        "if n>0:print(f\"{n} es un número positivo\")\n",
        "elif n<0: print(f\"{n} No es un número positivo\")\n",
        "else: print(f\"{n} es 0\")"
      ],
      "metadata": {
        "id": "gq956qy80wr2"
      },
      "execution_count": null,
      "outputs": []
    },
    {
      "cell_type": "markdown",
      "source": [
        "##Operador terniario\n",
        "Se usa cunado hay una condición a evaluar simple y se desea resolver en una línea de código\n",
        "\n",
        "\n",
        "```\n",
        "(valor de verdad) if\n",
        "(condición) else (valor de verdad\n",
        "F)\n",
        "```\n",
        "\n",
        "\n",
        "\n"
      ],
      "metadata": {
        "id": "9S3eIciv1UF-"
      }
    },
    {
      "cell_type": "code",
      "source": [
        "print(f\"{n} es un número positivo\") if n>=0 else print(f\"{n} No es un número positivo\")"
      ],
      "metadata": {
        "colab": {
          "base_uri": "https://localhost:8080/"
        },
        "id": "JYmZWuuy2wRn",
        "outputId": "fc8f6470-0cee-4b02-f7c2-a797589f1918"
      },
      "execution_count": 5,
      "outputs": [
        {
          "output_type": "stream",
          "name": "stdout",
          "text": [
            "2 es un número positivo\n"
          ]
        }
      ]
    },
    {
      "cell_type": "code",
      "source": [
        "a=f\"{n} es un número positivo\" if n>=0 else f\"{n} No es un número positivo\"\n",
        "print(a)"
      ],
      "metadata": {
        "colab": {
          "base_uri": "https://localhost:8080/"
        },
        "id": "gcA_QyYi30UU",
        "outputId": "d4a5c43e-8248-427c-8add-c2b62764c88f"
      },
      "execution_count": 6,
      "outputs": [
        {
          "output_type": "stream",
          "name": "stdout",
          "text": [
            "2 es un número positivo\n"
          ]
        }
      ]
    },
    {
      "cell_type": "markdown",
      "source": [
        "##Ejercicio 2"
      ],
      "metadata": {
        "id": "689-HYyw7iQb"
      }
    },
    {
      "cell_type": "markdown",
      "source": [
        "##Estructura if-else"
      ],
      "metadata": {
        "id": "RHxMntpL7vuZ"
      }
    },
    {
      "cell_type": "code",
      "source": [
        "#Escribe un programa que reciba una edad y determine si la persona es mayor de edad\n",
        "n=int(input(\"Ingrse su edad\"))\n",
        "if edad>=18:\n",
        " print(f\"{edad} la personas es mayor de edad\")\n",
        "else:\n",
        " print(edad, \" La persona no es mayor de edad\")"
      ],
      "metadata": {
        "colab": {
          "base_uri": "https://localhost:8080/"
        },
        "id": "7DlhLwsR7y9B",
        "outputId": "b8b78b32-3c34-49cf-92f7-26bce930d957"
      },
      "execution_count": 7,
      "outputs": [
        {
          "output_type": "stream",
          "name": "stdout",
          "text": [
            "Ingrse su edad17\n",
            "17  La persona no es maypr de edad\n"
          ]
        }
      ]
    },
    {
      "cell_type": "markdown",
      "source": [
        "##Selección múltiple if-elif-else"
      ],
      "metadata": {
        "id": "wIie2je89Tu4"
      }
    },
    {
      "cell_type": "code",
      "source": [
        "if n>18:print(f\"{n} es mayor de edad\")\n",
        "elif n<18: print(f\"{n} No es mayor de edad\")\n",
        "else: print(f\"{n} tienes 18\")"
      ],
      "metadata": {
        "colab": {
          "base_uri": "https://localhost:8080/"
        },
        "id": "hNUJqj4O9XPa",
        "outputId": "7e7ee5e7-7b4e-44e9-9a9d-a2055a449ded"
      },
      "execution_count": 11,
      "outputs": [
        {
          "output_type": "stream",
          "name": "stdout",
          "text": [
            "17 No es mayor de edad\n"
          ]
        }
      ]
    },
    {
      "cell_type": "markdown",
      "source": [
        "##Operador terniario\n"
      ],
      "metadata": {
        "id": "t1fjL6Dw98sR"
      }
    },
    {
      "cell_type": "code",
      "source": [
        "print(f\"{n} es mayor de de edad\") if n>=18 else print(f\"{n} No es mayor de edad\")"
      ],
      "metadata": {
        "colab": {
          "base_uri": "https://localhost:8080/"
        },
        "id": "ZnvK-LWQ9-ay",
        "outputId": "35d578ed-cdbe-42a8-bee4-f35c3c312e6e"
      },
      "execution_count": 13,
      "outputs": [
        {
          "output_type": "stream",
          "name": "stdout",
          "text": [
            "17 No es mayor de edad\n"
          ]
        }
      ]
    },
    {
      "cell_type": "markdown",
      "source": [
        "##Ejercicio 3\n"
      ],
      "metadata": {
        "id": "yV2RX5BG-TWn"
      }
    },
    {
      "cell_type": "markdown",
      "source": [
        "##Estructura if-else\n"
      ],
      "metadata": {
        "id": "IWnCeRqU-XH5"
      }
    },
    {
      "cell_type": "code",
      "source": [
        "#Escribe un programa que reciba dos números e imprima el mayor.\n",
        "a = int(input(\"Ingrese el primer número: \"))\n",
        "b = int(input(\"Ingrese el segundo número: \"))\n",
        "if a > b:\n",
        "    print(f\"{a} es el mayor\")\n",
        "else:\n",
        "    if b > a:\n",
        "        print(f\"{b} es el mayor\")\n",
        "    else:\n",
        "        print(\"Ambos números son iguales\")"
      ],
      "metadata": {
        "colab": {
          "base_uri": "https://localhost:8080/"
        },
        "id": "KWomUHB--ayo",
        "outputId": "fa5a2b1b-4d68-41aa-d095-555d28bf37d0"
      },
      "execution_count": 17,
      "outputs": [
        {
          "output_type": "stream",
          "name": "stdout",
          "text": [
            "Ingrese el primer número: 2\n",
            "Ingrese el segundo número: 3\n",
            "3 es el mayor\n"
          ]
        }
      ]
    },
    {
      "cell_type": "markdown",
      "source": [
        "##elección múltiple if-elif-else"
      ],
      "metadata": {
        "id": "7TvZ8TBI_a5n"
      }
    },
    {
      "cell_type": "code",
      "source": [
        "if a > b:\n",
        "    print(f\"{a} es el mayor\")\n",
        "elif b > a:\n",
        "    print(f\"{b} es el mayor\")\n",
        "else:\n",
        "    print(\"Ambos números son iguales\")"
      ],
      "metadata": {
        "colab": {
          "base_uri": "https://localhost:8080/"
        },
        "id": "4JiRfo_E_fdA",
        "outputId": "d20d481f-48bf-481b-97e9-8681628d73f4"
      },
      "execution_count": 20,
      "outputs": [
        {
          "output_type": "stream",
          "name": "stdout",
          "text": [
            "5 es el mayor\n"
          ]
        }
      ]
    },
    {
      "cell_type": "markdown",
      "source": [
        "##Operador terniario"
      ],
      "metadata": {
        "id": "8k35L5CKAqiW"
      }
    },
    {
      "cell_type": "code",
      "source": [
        "  print(f\"{a} es el mayor\") if a > b else print(f\"{b} es el mayor\") if b > a else print(\"Ambos números son iguales\")"
      ],
      "metadata": {
        "colab": {
          "base_uri": "https://localhost:8080/"
        },
        "id": "kjpxzwNpAveN",
        "outputId": "732dabf4-fdc7-4376-80ee-8f48366e743f"
      },
      "execution_count": 21,
      "outputs": [
        {
          "output_type": "stream",
          "name": "stdout",
          "text": [
            "5 es el mayor\n"
          ]
        }
      ]
    },
    {
      "cell_type": "markdown",
      "source": [
        "##Ejercicio 4"
      ],
      "metadata": {
        "id": "xY8p7uzzBvHl"
      }
    },
    {
      "cell_type": "code",
      "source": [
        "if cal >= 60:\n",
        "    print(f\"{cal} Aprobado\")\n",
        "elif cal < 60:\n",
        "    print(f\"{cal} Reprobado\")"
      ],
      "metadata": {
        "colab": {
          "base_uri": "https://localhost:8080/"
        },
        "id": "qF7U7t_pByPX",
        "outputId": "2943f7d3-03f1-4b5f-e63e-e2987a033433"
      },
      "execution_count": 22,
      "outputs": [
        {
          "output_type": "stream",
          "name": "stdout",
          "text": [
            "Ingrese la calificación (0-100): 70\n",
            "70 Aprobado\n"
          ]
        }
      ]
    },
    {
      "cell_type": "code",
      "source": [
        "#Escribe un programa que reciba una calificación (0-100) e indique si es Aprobado (>=60) o Reprobado.\n",
        "cal = int(input(\"Ingrese la calificación (0-100): \"))\n",
        "if cal >= 60:\n",
        "    print(f\"{cal} Aprobado\")\n",
        "else:\n",
        "    print(f\"{cal} Reprobado\")"
      ],
      "metadata": {
        "colab": {
          "base_uri": "https://localhost:8080/"
        },
        "id": "I2xEXd8lCip8",
        "outputId": "cc3e1d5a-5553-478e-fabf-263309ea109d"
      },
      "execution_count": 23,
      "outputs": [
        {
          "output_type": "stream",
          "name": "stdout",
          "text": [
            "Ingrese la calificación (0-100): 50\n",
            "50.0 Reprobado\n"
          ]
        }
      ]
    },
    {
      "cell_type": "code",
      "source": [
        "print(f\"{cal} - Aprobado\") if cal >= 60 else print(f\"{cal} - Reprobado\")"
      ],
      "metadata": {
        "colab": {
          "base_uri": "https://localhost:8080/"
        },
        "id": "snGKZvoyCotd",
        "outputId": "300338a6-b093-4941-a698-e81f3e9ca26f"
      },
      "execution_count": 24,
      "outputs": [
        {
          "output_type": "stream",
          "name": "stdout",
          "text": [
            "50.0 - Reprobado\n"
          ]
        }
      ]
    },
    {
      "cell_type": "markdown",
      "source": [
        "##Ejercicio 5"
      ],
      "metadata": {
        "id": "InFDC5dQC6gM"
      }
    },
    {
      "cell_type": "code",
      "source": [
        "# Escribe un programa que determine si un número es par o impar\n",
        "n = int(input(\"Ingrese un número: \"))\n",
        "if n % 2 == 0:\n",
        "    print(f\"{n} es par\")\n",
        "else:\n",
        "    print(f\"{n} es impar\")"
      ],
      "metadata": {
        "colab": {
          "base_uri": "https://localhost:8080/"
        },
        "id": "daFVW7rFC952",
        "outputId": "b7b0082d-27bd-4154-c53f-7f11acc9b2e9"
      },
      "execution_count": 25,
      "outputs": [
        {
          "output_type": "stream",
          "name": "stdout",
          "text": [
            "Ingrese un número: 2\n",
            "2 es par\n"
          ]
        }
      ]
    },
    {
      "cell_type": "code",
      "source": [
        "if n % 2 == 0:\n",
        "    print(f\"{n} es par\")\n",
        "elif n % 2 != 0:\n",
        "    print(f\"{n} es impar\")"
      ],
      "metadata": {
        "colab": {
          "base_uri": "https://localhost:8080/"
        },
        "id": "-WHdtohPC-LW",
        "outputId": "6386aed1-2b5c-4360-b75a-75fc4ac226fd"
      },
      "execution_count": 26,
      "outputs": [
        {
          "output_type": "stream",
          "name": "stdout",
          "text": [
            "2 es par\n"
          ]
        }
      ]
    },
    {
      "cell_type": "code",
      "source": [
        "print(f\"{n} es par\") if n % 2 == 0 else print(f\"{n} es impar\")"
      ],
      "metadata": {
        "colab": {
          "base_uri": "https://localhost:8080/"
        },
        "id": "TjkwMcpCC-dL",
        "outputId": "78b613e3-1265-4679-a25c-7f3bcc381b98"
      },
      "execution_count": 27,
      "outputs": [
        {
          "output_type": "stream",
          "name": "stdout",
          "text": [
            "2 es par\n"
          ]
        }
      ]
    },
    {
      "cell_type": "markdown",
      "source": [
        "##Ejercicio 6"
      ],
      "metadata": {
        "id": "QJ5qM_C2DMa8"
      }
    },
    {
      "cell_type": "code",
      "source": [
        "# Escribe un programa que reciba tres números e imprima el mayor de los tres\n",
        "a = int(input(\"Ingrese el primer número: \"))\n",
        "b = int(input(\"Ingrese el segundo número: \"))\n",
        "c = int(input(\"Ingrese el tercer número: \"))\n",
        "if a > b and a > c:\n",
        "    print(f\"{a} es el mayor\")\n",
        "else:\n",
        "    if b > a and b > c:\n",
        "        print(f\"{b} es el mayor\")\n",
        "    else:\n",
        "        print(f\"{c} es el mayor\")"
      ],
      "metadata": {
        "colab": {
          "base_uri": "https://localhost:8080/"
        },
        "id": "JQIDpykdDPlU",
        "outputId": "8f24db1b-dcd7-424c-8852-b2c485de93ce"
      },
      "execution_count": 28,
      "outputs": [
        {
          "output_type": "stream",
          "name": "stdout",
          "text": [
            "Ingrese el primer número: 3\n",
            "Ingrese el segundo número: 4\n",
            "Ingrese el tercer número: 5\n",
            "5 es el mayor\n"
          ]
        }
      ]
    },
    {
      "cell_type": "code",
      "source": [
        "if a > b and a > c:\n",
        "    print(f\"{a} es el mayor\")\n",
        "elif b > a and b > c:\n",
        "    print(f\"{b} es el mayor\")\n",
        "else:\n",
        "    print(f\"{c} es el mayor\")"
      ],
      "metadata": {
        "colab": {
          "base_uri": "https://localhost:8080/"
        },
        "id": "1_FEeK6EDP3s",
        "outputId": "e8bfa385-8fb8-4b4a-eee2-4e1192365bf0"
      },
      "execution_count": 29,
      "outputs": [
        {
          "output_type": "stream",
          "name": "stdout",
          "text": [
            "5 es el mayor\n"
          ]
        }
      ]
    },
    {
      "cell_type": "code",
      "source": [
        "print(f\"{a} es el mayor\") if a > b and a > c else (print(f\"{b} es el mayor\") if b > a and b > c else print(f\"{c} es el mayor\"))"
      ],
      "metadata": {
        "colab": {
          "base_uri": "https://localhost:8080/"
        },
        "id": "aYRxwPb4DQFk",
        "outputId": "a25cc51f-2575-491b-cb27-77b827b56e01"
      },
      "execution_count": 31,
      "outputs": [
        {
          "output_type": "stream",
          "name": "stdout",
          "text": [
            "5 es el mayor\n"
          ]
        }
      ]
    },
    {
      "cell_type": "markdown",
      "source": [
        "##Ejerciso 7"
      ],
      "metadata": {
        "id": "0e21_AkYDlZE"
      }
    },
    {
      "cell_type": "code",
      "source": [
        "# Escribe un programa que reciba un año e indique si es bisiesto\n",
        "anio = int(input(\"Ingrese un año: \"))\n",
        "if (anio % 4 == 0 and anio % 100 != 0) or (anio % 400 == 0):\n",
        "    print(f\"{anio} es un año bisiesto\")\n",
        "else:\n",
        "    print(f\"{anio} no es un año bisiesto\")"
      ],
      "metadata": {
        "id": "mjOVB9uBDn-N"
      },
      "execution_count": null,
      "outputs": []
    },
    {
      "cell_type": "code",
      "source": [
        "if anio % 4 == 0 and anio % 100 != 0:\n",
        "    print(f\"{anio} es un año bisiesto\")\n",
        "elif anio % 400 == 0:\n",
        "    print(f\"{anio} es un año bisiesto\")\n",
        "else:\n",
        "    print(f\"{anio} no es un año bisiesto\")"
      ],
      "metadata": {
        "id": "DoyEmXZbDoLc"
      },
      "execution_count": null,
      "outputs": []
    },
    {
      "cell_type": "code",
      "source": [
        "print(f\"{anio} es un año bisiesto\") if (anio % 4 == 0 and anio % 100 != 0) or (anio % 400 == 0) else print(f\"{anio} no es un año bisiesto\")"
      ],
      "metadata": {
        "id": "W_ZDn8EuDoeE"
      },
      "execution_count": null,
      "outputs": []
    },
    {
      "cell_type": "markdown",
      "source": [
        "##Ejercicio 8"
      ],
      "metadata": {
        "id": "RdfJarXuD3C0"
      }
    },
    {
      "cell_type": "code",
      "source": [
        "contrasena = input(\"Ingrese una contraseña: \")\n",
        "if len(contrasena) > 8:\n",
        "    if any(c.isdigit() for c in contrasena):\n",
        "        if any(c.isupper() for c in contrasena):\n",
        "            print(\"La contraseña es válida\")\n",
        "        else:\n",
        "            print(\"La contraseña debe contener al menos una letra mayúscula\")\n",
        "    else:\n",
        "        print(\"La contraseña debe contener al menos un número\")\n",
        "else:\n",
        "    print(\"La contraseña debe tener más de 8 caracteres\")"
      ],
      "metadata": {
        "id": "yjGWNFO9D6kL"
      },
      "execution_count": null,
      "outputs": []
    },
    {
      "cell_type": "code",
      "source": [
        "if len(contrasena) <= 8:\n",
        "    print(\"La contraseña debe tener más de 8 caracteres\")\n",
        "elif not any(c.isdigit() for c in contrasena):\n",
        "    print(\"La contraseña debe contener al menos un número\")\n",
        "elif not any(c.isupper() for c in contrasena):\n",
        "    print(\"La contraseña debe contener al menos una letra mayúscula\")\n",
        "else:\n",
        "    print(\"La contraseña es válida\")"
      ],
      "metadata": {
        "id": "eLPzL_JuD63t"
      },
      "execution_count": null,
      "outputs": []
    },
    {
      "cell_type": "code",
      "source": [
        "print(\"La contraseña es válida\") if len(contrasena) > 8 and any(c.isdigit() for c in contrasena) and any(c.isupper() for c in contrasena) else print(\"La contraseña no cumple con los requisitos\")"
      ],
      "metadata": {
        "id": "EOPoPCnMD7HU"
      },
      "execution_count": null,
      "outputs": []
    },
    {
      "cell_type": "markdown",
      "source": [
        "##Ejercisos 9\n"
      ],
      "metadata": {
        "id": "pO4ELVDNENJc"
      }
    },
    {
      "cell_type": "code",
      "source": [
        "n = int(input(\"Ingrese un número: \"))\n",
        "if n % 3 == 0 and n % 5 == 0:\n",
        "    print(\"FizzBuzz\")\n",
        "else:\n",
        "    if n % 3 == 0:\n",
        "        print(\"Fizz\")\n",
        "    elif n % 5 == 0:\n",
        "        print(\"Buzz\")\n",
        "    else:\n",
        "        print(n)"
      ],
      "metadata": {
        "id": "Dh1MmZzTEPyr"
      },
      "execution_count": null,
      "outputs": []
    },
    {
      "cell_type": "code",
      "source": [
        "if n % 3 == 0 and n % 5 == 0:\n",
        "    print(\"FizzBuzz\")\n",
        "elif n % 3 == 0:\n",
        "    print(\"Fizz\")\n",
        "elif n % 5 == 0:\n",
        "    print(\"Buzz\")\n",
        "else:\n",
        "    print(n)"
      ],
      "metadata": {
        "id": "DxBQN_ZKEQJr"
      },
      "execution_count": null,
      "outputs": []
    },
    {
      "cell_type": "code",
      "source": [
        "print(\"FizzBuzz\") if n % 3 == 0 and n % 5 == 0 else print(\"Fizz\") if n % 3 == 0 else print(\"Buzz\") if n % 5 == 0 else print(n)"
      ],
      "metadata": {
        "id": "rjYFt6U4EQZU"
      },
      "execution_count": null,
      "outputs": []
    },
    {
      "cell_type": "markdown",
      "source": [
        "##EJercicio 10"
      ],
      "metadata": {
        "id": "ZS_zfs8-EY5z"
      }
    },
    {
      "cell_type": "code",
      "source": [
        "saldo = int(input(\"Ingrese el saldo disponible: \"))\n",
        "retiro = int(input(\"Ingrese el monto a retirar: \"))\n",
        "if retiro <= saldo:\n",
        "    print(\"Operación exitosa. Retire su dinero.\")\n",
        "else:\n",
        "    print(\"Fondos insuficientes.\")"
      ],
      "metadata": {
        "id": "JY9BrLAiEboR"
      },
      "execution_count": null,
      "outputs": []
    },
    {
      "cell_type": "code",
      "source": [
        "if retiro <= saldo:\n",
        "    print(\"Operación exitosa. Retire su dinero.\")\n",
        "elif retiro > saldo:\n",
        "    print(\"Fondos insuficientes.\")"
      ],
      "metadata": {
        "id": "HtdS753NEb4L"
      },
      "execution_count": null,
      "outputs": []
    },
    {
      "cell_type": "code",
      "source": [
        "saldo = int(input(\"Ingrese el saldo disponible: \"))\n",
        "retiro = int(input(\"Ingrese el monto a retirar: \"))\n",
        "print(\"Operación exitosa. Retire su dinero.\") if retiro <= saldo else print(\"Fondos insuficientes.\")"
      ],
      "metadata": {
        "id": "tn1VU23xEcET"
      },
      "execution_count": null,
      "outputs": []
    }
  ]
}